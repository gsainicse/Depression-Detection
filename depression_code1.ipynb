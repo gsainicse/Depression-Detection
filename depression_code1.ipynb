{
 "cells": [
  {
   "cell_type": "markdown",
   "metadata": {},
   "source": [
    "# Social Media as a Measurement Tool of Depression in Populations"
   ]
  },
  {
   "cell_type": "code",
   "execution_count": 1,
   "metadata": {
    "_cell_guid": "b1076dfc-b9ad-4769-8c92-a6c4dae69d19",
    "_uuid": "8f2839f25d086af736a60e9eeb907d3b93b6e0e5",
    "collapsed": true
   },
   "outputs": [],
   "source": [
    "from sklearn.svm import SVC \n",
    "import wordcloud\n",
    "from wordcloud import WordCloud\n",
    "import matplotlib.pyplot as plt\n",
    "%matplotlib inline\n",
    "import nltk\n",
    "import copy\n",
    "import string\n",
    "import warnings\n",
    "import re\n",
    "import matplotlib.pyplot as plt\n",
    "import os\n",
    "import numpy as np\n",
    "import pandas as pd"
   ]
  },
  {
   "cell_type": "code",
   "execution_count": 2,
   "metadata": {
    "collapsed": true
   },
   "outputs": [],
   "source": [
    "from sklearn.feature_extraction.text import TfidfVectorizer\n",
    "import wordcloud\n"
   ]
  },
  {
   "cell_type": "code",
   "execution_count": 3,
   "metadata": {
    "collapsed": true
   },
   "outputs": [],
   "source": [
    "from xgboost import XGBClassifier\n"
   ]
  },
  {
   "cell_type": "code",
   "execution_count": 4,
   "metadata": {
    "collapsed": true
   },
   "outputs": [],
   "source": [
    "import xgboost as xgb"
   ]
  },
  {
   "cell_type": "code",
   "execution_count": 5,
   "metadata": {
    "collapsed": true
   },
   "outputs": [],
   "source": [
    "from wordcloud import WordCloud"
   ]
  },
  {
   "cell_type": "code",
   "execution_count": 6,
   "metadata": {
    "scrolled": true
   },
   "outputs": [
    {
     "name": "stderr",
     "output_type": "stream",
     "text": [
      "/home/gsainicse/anaconda3/lib/python3.6/site-packages/sklearn/ensemble/weight_boosting.py:29: DeprecationWarning: numpy.core.umath_tests is an internal NumPy module and should not be imported. It will be removed in a future NumPy release.\n",
      "  from numpy.core.umath_tests import inner1d\n"
     ]
    }
   ],
   "source": [
    "from sklearn.ensemble import RandomForestClassifier \n",
    "from sklearn.linear_model import LogisticRegression \n",
    "from sklearn import svm\n",
    "from sklearn.metrics import accuracy_score\n",
    "from sklearn.model_selection import train_test_split\n",
    "from sklearn.feature_extraction.text import CountVectorizer"
   ]
  },
  {
   "cell_type": "code",
   "execution_count": 7,
   "metadata": {
    "collapsed": true
   },
   "outputs": [],
   "source": [
    "dataset = pd.read_csv(\"tweetdata1.csv\",encoding='latin-1')\n",
    "COLUMNS = [\"target\", \"ids\", \"date\", \"flag\", \"user\", \"Text\"]\n",
    "dataset.columns = COLUMNS"
   ]
  },
  {
   "cell_type": "code",
   "execution_count": 8,
   "metadata": {
    "collapsed": true
   },
   "outputs": [],
   "source": [
    "data_ = copy.deepcopy(dataset)\n",
    "positive_data = data_[data_.target==4].iloc[:80000,:]\n",
    "negative_data = data_[data_.target==0].iloc[:80000,:]\n",
    "data_subset = pd.concat([positive_data,negative_data],axis=0)"
   ]
  },
  {
   "cell_type": "markdown",
   "metadata": {},
   "source": [
    "### Target"
   ]
  },
  {
   "cell_type": "code",
   "execution_count": 9,
   "metadata": {
    "collapsed": true
   },
   "outputs": [],
   "source": [
    "data_target=dataset.groupby('target')"
   ]
  },
  {
   "cell_type": "code",
   "execution_count": 10,
   "metadata": {},
   "outputs": [
    {
     "data": {
      "text/plain": [
       "0    799994\n",
       "4    248576\n",
       "Name: target, dtype: int64"
      ]
     },
     "execution_count": 10,
     "metadata": {},
     "output_type": "execute_result"
    }
   ],
   "source": [
    "dataset['target'].value_counts()"
   ]
  },
  {
   "cell_type": "markdown",
   "metadata": {},
   "source": [
    "## Date\n"
   ]
  },
  {
   "cell_type": "code",
   "execution_count": 11,
   "metadata": {},
   "outputs": [
    {
     "data": {
      "text/html": [
       "<div>\n",
       "<style scoped>\n",
       "    .dataframe tbody tr th:only-of-type {\n",
       "        vertical-align: middle;\n",
       "    }\n",
       "\n",
       "    .dataframe tbody tr th {\n",
       "        vertical-align: top;\n",
       "    }\n",
       "\n",
       "    .dataframe thead th {\n",
       "        text-align: right;\n",
       "    }\n",
       "</style>\n",
       "<table border=\"1\" class=\"dataframe\">\n",
       "  <thead>\n",
       "    <tr style=\"text-align: right;\">\n",
       "      <th></th>\n",
       "      <th>target</th>\n",
       "      <th>ids</th>\n",
       "      <th>date</th>\n",
       "      <th>flag</th>\n",
       "      <th>user</th>\n",
       "      <th>Text</th>\n",
       "    </tr>\n",
       "  </thead>\n",
       "  <tbody>\n",
       "    <tr>\n",
       "      <th>0</th>\n",
       "      <td>0</td>\n",
       "      <td>1467811592</td>\n",
       "      <td>Mon Apr 06 22:20:03 PDT 2009</td>\n",
       "      <td>NO_QUERY</td>\n",
       "      <td>mybirch</td>\n",
       "      <td>Need a hug</td>\n",
       "    </tr>\n",
       "    <tr>\n",
       "      <th>1</th>\n",
       "      <td>0</td>\n",
       "      <td>1467811594</td>\n",
       "      <td>Mon Apr 06 22:20:03 PDT 2009</td>\n",
       "      <td>NO_QUERY</td>\n",
       "      <td>coZZ</td>\n",
       "      <td>@LOLTrish hey  long time no see! Yes.. Rains a...</td>\n",
       "    </tr>\n",
       "    <tr>\n",
       "      <th>2</th>\n",
       "      <td>0</td>\n",
       "      <td>1467811795</td>\n",
       "      <td>Mon Apr 06 22:20:05 PDT 2009</td>\n",
       "      <td>NO_QUERY</td>\n",
       "      <td>2Hood4Hollywood</td>\n",
       "      <td>@Tatiana_K nope they didn't have it</td>\n",
       "    </tr>\n",
       "    <tr>\n",
       "      <th>3</th>\n",
       "      <td>0</td>\n",
       "      <td>1467812025</td>\n",
       "      <td>Mon Apr 06 22:20:09 PDT 2009</td>\n",
       "      <td>NO_QUERY</td>\n",
       "      <td>mimismo</td>\n",
       "      <td>@twittera que me muera ?</td>\n",
       "    </tr>\n",
       "    <tr>\n",
       "      <th>4</th>\n",
       "      <td>0</td>\n",
       "      <td>1467812416</td>\n",
       "      <td>Mon Apr 06 22:20:16 PDT 2009</td>\n",
       "      <td>NO_QUERY</td>\n",
       "      <td>erinx3leannexo</td>\n",
       "      <td>spring break in plain city... it's snowing</td>\n",
       "    </tr>\n",
       "  </tbody>\n",
       "</table>\n",
       "</div>"
      ],
      "text/plain": [
       "   target         ids                          date      flag  \\\n",
       "0       0  1467811592  Mon Apr 06 22:20:03 PDT 2009  NO_QUERY   \n",
       "1       0  1467811594  Mon Apr 06 22:20:03 PDT 2009  NO_QUERY   \n",
       "2       0  1467811795  Mon Apr 06 22:20:05 PDT 2009  NO_QUERY   \n",
       "3       0  1467812025  Mon Apr 06 22:20:09 PDT 2009  NO_QUERY   \n",
       "4       0  1467812416  Mon Apr 06 22:20:16 PDT 2009  NO_QUERY   \n",
       "\n",
       "              user                                               Text  \n",
       "0          mybirch                                        Need a hug   \n",
       "1             coZZ  @LOLTrish hey  long time no see! Yes.. Rains a...  \n",
       "2  2Hood4Hollywood               @Tatiana_K nope they didn't have it   \n",
       "3          mimismo                          @twittera que me muera ?   \n",
       "4   erinx3leannexo        spring break in plain city... it's snowing   "
      ]
     },
     "execution_count": 11,
     "metadata": {},
     "output_type": "execute_result"
    }
   ],
   "source": [
    "dataset.head()"
   ]
  },
  {
   "cell_type": "code",
   "execution_count": 12,
   "metadata": {},
   "outputs": [
    {
     "data": {
      "text/html": [
       "<div>\n",
       "<style scoped>\n",
       "    .dataframe tbody tr th:only-of-type {\n",
       "        vertical-align: middle;\n",
       "    }\n",
       "\n",
       "    .dataframe tbody tr th {\n",
       "        vertical-align: top;\n",
       "    }\n",
       "\n",
       "    .dataframe thead th {\n",
       "        text-align: right;\n",
       "    }\n",
       "</style>\n",
       "<table border=\"1\" class=\"dataframe\">\n",
       "  <thead>\n",
       "    <tr style=\"text-align: right;\">\n",
       "      <th></th>\n",
       "      <th>target</th>\n",
       "      <th>date</th>\n",
       "    </tr>\n",
       "  </thead>\n",
       "  <tbody>\n",
       "    <tr>\n",
       "      <th>0</th>\n",
       "      <td>0</td>\n",
       "      <td>Mon Apr 06 22:20:03 PDT 2009</td>\n",
       "    </tr>\n",
       "    <tr>\n",
       "      <th>1</th>\n",
       "      <td>0</td>\n",
       "      <td>Mon Apr 06 22:20:03 PDT 2009</td>\n",
       "    </tr>\n",
       "    <tr>\n",
       "      <th>2</th>\n",
       "      <td>0</td>\n",
       "      <td>Mon Apr 06 22:20:05 PDT 2009</td>\n",
       "    </tr>\n",
       "    <tr>\n",
       "      <th>3</th>\n",
       "      <td>0</td>\n",
       "      <td>Mon Apr 06 22:20:09 PDT 2009</td>\n",
       "    </tr>\n",
       "    <tr>\n",
       "      <th>4</th>\n",
       "      <td>0</td>\n",
       "      <td>Mon Apr 06 22:20:16 PDT 2009</td>\n",
       "    </tr>\n",
       "  </tbody>\n",
       "</table>\n",
       "</div>"
      ],
      "text/plain": [
       "   target                          date\n",
       "0       0  Mon Apr 06 22:20:03 PDT 2009\n",
       "1       0  Mon Apr 06 22:20:03 PDT 2009\n",
       "2       0  Mon Apr 06 22:20:05 PDT 2009\n",
       "3       0  Mon Apr 06 22:20:09 PDT 2009\n",
       "4       0  Mon Apr 06 22:20:16 PDT 2009"
      ]
     },
     "execution_count": 12,
     "metadata": {},
     "output_type": "execute_result"
    }
   ],
   "source": [
    "sub_data = {'target': dataset['target'], 'date': dataset['date']}\n",
    "dataframe = pd.DataFrame(sub_data)\n",
    "dataframe.head()"
   ]
  },
  {
   "cell_type": "code",
   "execution_count": 13,
   "metadata": {},
   "outputs": [
    {
     "name": "stderr",
     "output_type": "stream",
     "text": [
      "/home/gsainicse/anaconda3/lib/python3.6/site-packages/dateutil/parser/_parser.py:1218: UnknownTimezoneWarning: tzname PDT identified but not understood.  Pass `tzinfos` argument in order to correctly return a timezone-aware datetime.  In a future version, this will raise an exception.\n",
      "  category=UnknownTimezoneWarning)\n"
     ]
    }
   ],
   "source": [
    "dataframe['date'] = pd.to_datetime(dataframe['date'])"
   ]
  },
  {
   "cell_type": "code",
   "execution_count": 14,
   "metadata": {},
   "outputs": [
    {
     "data": {
      "text/html": [
       "<div>\n",
       "<style scoped>\n",
       "    .dataframe tbody tr th:only-of-type {\n",
       "        vertical-align: middle;\n",
       "    }\n",
       "\n",
       "    .dataframe tbody tr th {\n",
       "        vertical-align: top;\n",
       "    }\n",
       "\n",
       "    .dataframe thead th {\n",
       "        text-align: right;\n",
       "    }\n",
       "</style>\n",
       "<table border=\"1\" class=\"dataframe\">\n",
       "  <thead>\n",
       "    <tr style=\"text-align: right;\">\n",
       "      <th></th>\n",
       "      <th>target</th>\n",
       "      <th>date</th>\n",
       "      <th>hour</th>\n",
       "    </tr>\n",
       "  </thead>\n",
       "  <tbody>\n",
       "    <tr>\n",
       "      <th>0</th>\n",
       "      <td>0</td>\n",
       "      <td>2009-04-06 22:20:03</td>\n",
       "      <td>22</td>\n",
       "    </tr>\n",
       "    <tr>\n",
       "      <th>1</th>\n",
       "      <td>0</td>\n",
       "      <td>2009-04-06 22:20:03</td>\n",
       "      <td>22</td>\n",
       "    </tr>\n",
       "    <tr>\n",
       "      <th>2</th>\n",
       "      <td>0</td>\n",
       "      <td>2009-04-06 22:20:05</td>\n",
       "      <td>22</td>\n",
       "    </tr>\n",
       "    <tr>\n",
       "      <th>3</th>\n",
       "      <td>0</td>\n",
       "      <td>2009-04-06 22:20:09</td>\n",
       "      <td>22</td>\n",
       "    </tr>\n",
       "    <tr>\n",
       "      <th>4</th>\n",
       "      <td>0</td>\n",
       "      <td>2009-04-06 22:20:16</td>\n",
       "      <td>22</td>\n",
       "    </tr>\n",
       "  </tbody>\n",
       "</table>\n",
       "</div>"
      ],
      "text/plain": [
       "   target                date  hour\n",
       "0       0 2009-04-06 22:20:03    22\n",
       "1       0 2009-04-06 22:20:03    22\n",
       "2       0 2009-04-06 22:20:05    22\n",
       "3       0 2009-04-06 22:20:09    22\n",
       "4       0 2009-04-06 22:20:16    22"
      ]
     },
     "execution_count": 14,
     "metadata": {},
     "output_type": "execute_result"
    }
   ],
   "source": [
    "hour = [ dataframe['date'][i].hour for i in range(len(dataframe['date'])) ]\n",
    "dataframe['hour'] = hour\n",
    "dataframe.head()"
   ]
  },
  {
   "cell_type": "code",
   "execution_count": 15,
   "metadata": {
    "collapsed": true
   },
   "outputs": [],
   "source": [
    "hour_data = {'0': [0]*24, '2': [0]*24, '4': [0]*24}\n",
    "for i in range(len(dataframe['hour'])):\n",
    "    target = str(dataframe['target'][i])\n",
    "    hour = int(dataframe['hour'][i])\n",
    "    hour_data[target][hour] += 1"
   ]
  },
  {
   "cell_type": "code",
   "execution_count": 16,
   "metadata": {
    "collapsed": true
   },
   "outputs": [],
   "source": [
    "hour_data = [hour_data['0'], hour_data['2'], hour_data['4']]\n",
    "# Transpose\n",
    "hour_data = list(map(list,zip(*hour_data)))"
   ]
  },
  {
   "cell_type": "code",
   "execution_count": 17,
   "metadata": {
    "collapsed": true
   },
   "outputs": [],
   "source": [
    "dataframe1 = pd.DataFrame(hour_data,index = [i for i in range(24)],columns=['negative', 'neutral', 'positive'])"
   ]
  },
  {
   "cell_type": "code",
   "execution_count": 79,
   "metadata": {},
   "outputs": [
    {
     "data": {
      "text/plain": [
       "<matplotlib.axes._subplots.AxesSubplot at 0x7f4c9641b7f0>"
      ]
     },
     "execution_count": 79,
     "metadata": {},
     "output_type": "execute_result"
    },
    {
     "data": {
      "image/png": "[encoded data removed]",
      "text/plain": [
       "<Figure size 432x288 with 1 Axes>"
      ]
     },
     "metadata": {},
     "output_type": "display_data"
    }
   ],
   "source": [
    "dataframe1.plot()"
   ]
  },
  {
   "cell_type": "code",
   "execution_count": 19,
   "metadata": {
    "collapsed": true
   },
   "outputs": [],
   "source": [
    "positive_tweet_count = 0\n",
    "negative_tweet_count = 0\n",
    "TweetList = list(data_subset['Text'])\n",
    "targetList = list(data_subset['target'])\n",
    "for i in range(len(data_subset['Text'])):\n",
    "    if TweetList[i].find('@') != -1:\n",
    "        \n",
    "        if targetList[i] == 4:\n",
    "            positive_tweet_count += 1\n",
    "        else:\n",
    "            negative_tweet_count += 1\n",
    "all_counts = [positive_tweet_count, negative_tweet_count]"
   ]
  },
  {
   "cell_type": "code",
   "execution_count": 20,
   "metadata": {},
   "outputs": [
    {
     "data": {
      "text/plain": [
       "<BarContainer object of 2 artists>"
      ]
     },
     "execution_count": 20,
     "metadata": {},
     "output_type": "execute_result"
    },
    {
     "data": {
      "image/png": "[encoded data removed]",
      "text/plain": [
       "<Figure size 432x288 with 1 Axes>"
      ]
     },
     "metadata": {},
     "output_type": "display_data"
    }
   ],
   "source": [
    "import matplotlib.pyplot as plt\n",
    "names = ['positive', 'negative']\n",
    "values = [positive_tweet_count, negative_tweet_count]\n",
    "plt.bar(names, values)"
   ]
  },
  {
   "cell_type": "code",
   "execution_count": 21,
   "metadata": {
    "collapsed": true
   },
   "outputs": [],
   "source": [
    "import copy\n",
    "newdatacopy = copy.deepcopy(data_subset)\n",
    "newdatacopy.drop(['ids','date','flag','user'],axis = 1,inplace = True)"
   ]
  },
  {
   "cell_type": "markdown",
   "metadata": {},
   "source": [
    "# Data preprocess"
   ]
  },
  {
   "cell_type": "code",
   "execution_count": 22,
   "metadata": {},
   "outputs": [
    {
     "name": "stdout",
     "output_type": "stream",
     "text": [
      "(10000, 6)\n",
      "(10000, 6)\n",
      "(20000, 6)\n"
     ]
    },
    {
     "data": {
      "text/html": [
       "<div>\n",
       "<style scoped>\n",
       "    .dataframe tbody tr th:only-of-type {\n",
       "        vertical-align: middle;\n",
       "    }\n",
       "\n",
       "    .dataframe tbody tr th {\n",
       "        vertical-align: top;\n",
       "    }\n",
       "\n",
       "    .dataframe thead th {\n",
       "        text-align: right;\n",
       "    }\n",
       "</style>\n",
       "<table border=\"1\" class=\"dataframe\">\n",
       "  <thead>\n",
       "    <tr style=\"text-align: right;\">\n",
       "      <th></th>\n",
       "      <th>target</th>\n",
       "      <th>ids</th>\n",
       "      <th>date</th>\n",
       "      <th>flag</th>\n",
       "      <th>user</th>\n",
       "      <th>Text</th>\n",
       "    </tr>\n",
       "  </thead>\n",
       "  <tbody>\n",
       "    <tr>\n",
       "      <th>799994</th>\n",
       "      <td>4</td>\n",
       "      <td>1467822272</td>\n",
       "      <td>Mon Apr 06 22:22:45 PDT 2009</td>\n",
       "      <td>NO_QUERY</td>\n",
       "      <td>ersle</td>\n",
       "      <td>I LOVE @Health4UandPets u guys r the best!!</td>\n",
       "    </tr>\n",
       "    <tr>\n",
       "      <th>799995</th>\n",
       "      <td>4</td>\n",
       "      <td>1467822273</td>\n",
       "      <td>Mon Apr 06 22:22:45 PDT 2009</td>\n",
       "      <td>NO_QUERY</td>\n",
       "      <td>becca210</td>\n",
       "      <td>im meeting up with one of my besties tonight! ...</td>\n",
       "    </tr>\n",
       "    <tr>\n",
       "      <th>799996</th>\n",
       "      <td>4</td>\n",
       "      <td>1467822283</td>\n",
       "      <td>Mon Apr 06 22:22:46 PDT 2009</td>\n",
       "      <td>NO_QUERY</td>\n",
       "      <td>Wingman29</td>\n",
       "      <td>@DaRealSunisaKim Thanks for the Twitter add, S...</td>\n",
       "    </tr>\n",
       "    <tr>\n",
       "      <th>799997</th>\n",
       "      <td>4</td>\n",
       "      <td>1467822287</td>\n",
       "      <td>Mon Apr 06 22:22:46 PDT 2009</td>\n",
       "      <td>NO_QUERY</td>\n",
       "      <td>katarinka</td>\n",
       "      <td>Being sick can be really cheap when it hurts t...</td>\n",
       "    </tr>\n",
       "    <tr>\n",
       "      <th>799998</th>\n",
       "      <td>4</td>\n",
       "      <td>1467822293</td>\n",
       "      <td>Mon Apr 06 22:22:46 PDT 2009</td>\n",
       "      <td>NO_QUERY</td>\n",
       "      <td>_EmilyYoung</td>\n",
       "      <td>@LovesBrooklyn2 he has that effect on everyone</td>\n",
       "    </tr>\n",
       "  </tbody>\n",
       "</table>\n",
       "</div>"
      ],
      "text/plain": [
       "        target         ids                          date      flag  \\\n",
       "799994       4  1467822272  Mon Apr 06 22:22:45 PDT 2009  NO_QUERY   \n",
       "799995       4  1467822273  Mon Apr 06 22:22:45 PDT 2009  NO_QUERY   \n",
       "799996       4  1467822283  Mon Apr 06 22:22:46 PDT 2009  NO_QUERY   \n",
       "799997       4  1467822287  Mon Apr 06 22:22:46 PDT 2009  NO_QUERY   \n",
       "799998       4  1467822293  Mon Apr 06 22:22:46 PDT 2009  NO_QUERY   \n",
       "\n",
       "               user                                               Text  \n",
       "799994        ersle       I LOVE @Health4UandPets u guys r the best!!   \n",
       "799995     becca210  im meeting up with one of my besties tonight! ...  \n",
       "799996    Wingman29  @DaRealSunisaKim Thanks for the Twitter add, S...  \n",
       "799997    katarinka  Being sick can be really cheap when it hurts t...  \n",
       "799998  _EmilyYoung    @LovesBrooklyn2 he has that effect on everyone   "
      ]
     },
     "execution_count": 22,
     "metadata": {},
     "output_type": "execute_result"
    }
   ],
   "source": [
    "positive_data = dataset[dataset.target==4].iloc[:10000,:]\n",
    "print(positive_data.shape)\n",
    "negative_data = dataset[dataset.target==0].iloc[:10000,:]\n",
    "print(negative_data.shape)\n",
    "dataset = pd.concat([positive_data,negative_data],axis = 0)\n",
    "print(dataset.shape)\n",
    "dataset.head()"
   ]
  },
  {
   "cell_type": "code",
   "execution_count": 23,
   "metadata": {},
   "outputs": [
    {
     "name": "stdout",
     "output_type": "stream",
     "text": [
      "[nltk_data] Downloading package stopwords to\n",
      "[nltk_data]     /home/gsainicse/nltk_data...\n",
      "[nltk_data]   Package stopwords is already up-to-date!\n"
     ]
    },
    {
     "data": {
      "text/plain": [
       "True"
      ]
     },
     "execution_count": 23,
     "metadata": {},
     "output_type": "execute_result"
    }
   ],
   "source": [
    "nltk.download('stopwords')"
   ]
  },
  {
   "cell_type": "code",
   "execution_count": 24,
   "metadata": {},
   "outputs": [
    {
     "data": {
      "text/html": [
       "<div>\n",
       "<style scoped>\n",
       "    .dataframe tbody tr th:only-of-type {\n",
       "        vertical-align: middle;\n",
       "    }\n",
       "\n",
       "    .dataframe tbody tr th {\n",
       "        vertical-align: top;\n",
       "    }\n",
       "\n",
       "    .dataframe thead th {\n",
       "        text-align: right;\n",
       "    }\n",
       "</style>\n",
       "<table border=\"1\" class=\"dataframe\">\n",
       "  <thead>\n",
       "    <tr style=\"text-align: right;\">\n",
       "      <th></th>\n",
       "      <th>target</th>\n",
       "      <th>ids</th>\n",
       "      <th>date</th>\n",
       "      <th>flag</th>\n",
       "      <th>user</th>\n",
       "      <th>Text</th>\n",
       "      <th>Clean_Text</th>\n",
       "    </tr>\n",
       "  </thead>\n",
       "  <tbody>\n",
       "    <tr>\n",
       "      <th>799994</th>\n",
       "      <td>4</td>\n",
       "      <td>1467822272</td>\n",
       "      <td>Mon Apr 06 22:22:45 PDT 2009</td>\n",
       "      <td>NO_QUERY</td>\n",
       "      <td>ersle</td>\n",
       "      <td>I LOVE @Health4UandPets u guys r the best!!</td>\n",
       "      <td>love health uandpets u guys r best</td>\n",
       "    </tr>\n",
       "    <tr>\n",
       "      <th>799995</th>\n",
       "      <td>4</td>\n",
       "      <td>1467822273</td>\n",
       "      <td>Mon Apr 06 22:22:45 PDT 2009</td>\n",
       "      <td>NO_QUERY</td>\n",
       "      <td>becca210</td>\n",
       "      <td>im meeting up with one of my besties tonight! ...</td>\n",
       "      <td>im meeting one besties tonight cant wait girl ...</td>\n",
       "    </tr>\n",
       "    <tr>\n",
       "      <th>799996</th>\n",
       "      <td>4</td>\n",
       "      <td>1467822283</td>\n",
       "      <td>Mon Apr 06 22:22:46 PDT 2009</td>\n",
       "      <td>NO_QUERY</td>\n",
       "      <td>Wingman29</td>\n",
       "      <td>@DaRealSunisaKim Thanks for the Twitter add, S...</td>\n",
       "      <td>darealsunisakim thanks twitter add sunisa got ...</td>\n",
       "    </tr>\n",
       "    <tr>\n",
       "      <th>799997</th>\n",
       "      <td>4</td>\n",
       "      <td>1467822287</td>\n",
       "      <td>Mon Apr 06 22:22:46 PDT 2009</td>\n",
       "      <td>NO_QUERY</td>\n",
       "      <td>katarinka</td>\n",
       "      <td>Being sick can be really cheap when it hurts t...</td>\n",
       "      <td>sick really cheap hurts much eat real food plu...</td>\n",
       "    </tr>\n",
       "    <tr>\n",
       "      <th>799998</th>\n",
       "      <td>4</td>\n",
       "      <td>1467822293</td>\n",
       "      <td>Mon Apr 06 22:22:46 PDT 2009</td>\n",
       "      <td>NO_QUERY</td>\n",
       "      <td>_EmilyYoung</td>\n",
       "      <td>@LovesBrooklyn2 he has that effect on everyone</td>\n",
       "      <td>lovesbrooklyn effect everyone</td>\n",
       "    </tr>\n",
       "  </tbody>\n",
       "</table>\n",
       "</div>"
      ],
      "text/plain": [
       "        target         ids                          date      flag  \\\n",
       "799994       4  1467822272  Mon Apr 06 22:22:45 PDT 2009  NO_QUERY   \n",
       "799995       4  1467822273  Mon Apr 06 22:22:45 PDT 2009  NO_QUERY   \n",
       "799996       4  1467822283  Mon Apr 06 22:22:46 PDT 2009  NO_QUERY   \n",
       "799997       4  1467822287  Mon Apr 06 22:22:46 PDT 2009  NO_QUERY   \n",
       "799998       4  1467822293  Mon Apr 06 22:22:46 PDT 2009  NO_QUERY   \n",
       "\n",
       "               user                                               Text  \\\n",
       "799994        ersle       I LOVE @Health4UandPets u guys r the best!!    \n",
       "799995     becca210  im meeting up with one of my besties tonight! ...   \n",
       "799996    Wingman29  @DaRealSunisaKim Thanks for the Twitter add, S...   \n",
       "799997    katarinka  Being sick can be really cheap when it hurts t...   \n",
       "799998  _EmilyYoung    @LovesBrooklyn2 he has that effect on everyone    \n",
       "\n",
       "                                               Clean_Text  \n",
       "799994                 love health uandpets u guys r best  \n",
       "799995  im meeting one besties tonight cant wait girl ...  \n",
       "799996  darealsunisakim thanks twitter add sunisa got ...  \n",
       "799997  sick really cheap hurts much eat real food plu...  \n",
       "799998                      lovesbrooklyn effect everyone  "
      ]
     },
     "execution_count": 24,
     "metadata": {},
     "output_type": "execute_result"
    }
   ],
   "source": [
    "dataset['Clean_Text'] = dataset['Text'].str.replace(\"@\", \"\") \n",
    "dataset['Clean_Text'] = dataset['Clean_Text'].str.replace(r\"http\\S+\", \"\") \n",
    "dataset['Clean_Text'] = dataset['Clean_Text'].str.replace(\"[^a-zA-Z]\", \" \") \n",
    "import nltk\n",
    "stopwords=nltk.corpus.stopwords.words('english')\n",
    "def remove_stopwords(text):\n",
    "    clean_text=' '.join([word for word in text.split() if word not in stopwords])\n",
    "    return clean_text\n",
    "dataset['Clean_Text'] = dataset['Clean_Text'].apply(lambda text : remove_stopwords(text.lower()))\n",
    "dataset.head()"
   ]
  },
  {
   "cell_type": "code",
   "execution_count": 25,
   "metadata": {},
   "outputs": [
    {
     "name": "stdout",
     "output_type": "stream",
     "text": [
      "[nltk_data] Downloading package punkt to /home/gsainicse/nltk_data...\n",
      "[nltk_data]   Package punkt is already up-to-date!\n"
     ]
    },
    {
     "data": {
      "text/plain": [
       "True"
      ]
     },
     "execution_count": 25,
     "metadata": {},
     "output_type": "execute_result"
    }
   ],
   "source": [
    "nltk.download('punkt')"
   ]
  },
  {
   "cell_type": "code",
   "execution_count": 26,
   "metadata": {},
   "outputs": [
    {
     "data": {
      "text/html": [
       "<div>\n",
       "<style scoped>\n",
       "    .dataframe tbody tr th:only-of-type {\n",
       "        vertical-align: middle;\n",
       "    }\n",
       "\n",
       "    .dataframe tbody tr th {\n",
       "        vertical-align: top;\n",
       "    }\n",
       "\n",
       "    .dataframe thead th {\n",
       "        text-align: right;\n",
       "    }\n",
       "</style>\n",
       "<table border=\"1\" class=\"dataframe\">\n",
       "  <thead>\n",
       "    <tr style=\"text-align: right;\">\n",
       "      <th></th>\n",
       "      <th>target</th>\n",
       "      <th>ids</th>\n",
       "      <th>date</th>\n",
       "      <th>flag</th>\n",
       "      <th>user</th>\n",
       "      <th>Text</th>\n",
       "      <th>Clean_Text</th>\n",
       "    </tr>\n",
       "  </thead>\n",
       "  <tbody>\n",
       "    <tr>\n",
       "      <th>799994</th>\n",
       "      <td>4</td>\n",
       "      <td>1467822272</td>\n",
       "      <td>Mon Apr 06 22:22:45 PDT 2009</td>\n",
       "      <td>NO_QUERY</td>\n",
       "      <td>ersle</td>\n",
       "      <td>I LOVE @Health4UandPets u guys r the best!!</td>\n",
       "      <td>[love, health, uandpets, u, guys, r, best]</td>\n",
       "    </tr>\n",
       "    <tr>\n",
       "      <th>799995</th>\n",
       "      <td>4</td>\n",
       "      <td>1467822273</td>\n",
       "      <td>Mon Apr 06 22:22:45 PDT 2009</td>\n",
       "      <td>NO_QUERY</td>\n",
       "      <td>becca210</td>\n",
       "      <td>im meeting up with one of my besties tonight! ...</td>\n",
       "      <td>[im, meeting, one, besties, tonight, cant, wai...</td>\n",
       "    </tr>\n",
       "    <tr>\n",
       "      <th>799996</th>\n",
       "      <td>4</td>\n",
       "      <td>1467822283</td>\n",
       "      <td>Mon Apr 06 22:22:46 PDT 2009</td>\n",
       "      <td>NO_QUERY</td>\n",
       "      <td>Wingman29</td>\n",
       "      <td>@DaRealSunisaKim Thanks for the Twitter add, S...</td>\n",
       "      <td>[darealsunisakim, thanks, twitter, add, sunisa...</td>\n",
       "    </tr>\n",
       "    <tr>\n",
       "      <th>799997</th>\n",
       "      <td>4</td>\n",
       "      <td>1467822287</td>\n",
       "      <td>Mon Apr 06 22:22:46 PDT 2009</td>\n",
       "      <td>NO_QUERY</td>\n",
       "      <td>katarinka</td>\n",
       "      <td>Being sick can be really cheap when it hurts t...</td>\n",
       "      <td>[sick, really, cheap, hurts, much, eat, real, ...</td>\n",
       "    </tr>\n",
       "    <tr>\n",
       "      <th>799998</th>\n",
       "      <td>4</td>\n",
       "      <td>1467822293</td>\n",
       "      <td>Mon Apr 06 22:22:46 PDT 2009</td>\n",
       "      <td>NO_QUERY</td>\n",
       "      <td>_EmilyYoung</td>\n",
       "      <td>@LovesBrooklyn2 he has that effect on everyone</td>\n",
       "      <td>[lovesbrooklyn, effect, everyone]</td>\n",
       "    </tr>\n",
       "  </tbody>\n",
       "</table>\n",
       "</div>"
      ],
      "text/plain": [
       "        target         ids                          date      flag  \\\n",
       "799994       4  1467822272  Mon Apr 06 22:22:45 PDT 2009  NO_QUERY   \n",
       "799995       4  1467822273  Mon Apr 06 22:22:45 PDT 2009  NO_QUERY   \n",
       "799996       4  1467822283  Mon Apr 06 22:22:46 PDT 2009  NO_QUERY   \n",
       "799997       4  1467822287  Mon Apr 06 22:22:46 PDT 2009  NO_QUERY   \n",
       "799998       4  1467822293  Mon Apr 06 22:22:46 PDT 2009  NO_QUERY   \n",
       "\n",
       "               user                                               Text  \\\n",
       "799994        ersle       I LOVE @Health4UandPets u guys r the best!!    \n",
       "799995     becca210  im meeting up with one of my besties tonight! ...   \n",
       "799996    Wingman29  @DaRealSunisaKim Thanks for the Twitter add, S...   \n",
       "799997    katarinka  Being sick can be really cheap when it hurts t...   \n",
       "799998  _EmilyYoung    @LovesBrooklyn2 he has that effect on everyone    \n",
       "\n",
       "                                               Clean_Text  \n",
       "799994         [love, health, uandpets, u, guys, r, best]  \n",
       "799995  [im, meeting, one, besties, tonight, cant, wai...  \n",
       "799996  [darealsunisakim, thanks, twitter, add, sunisa...  \n",
       "799997  [sick, really, cheap, hurts, much, eat, real, ...  \n",
       "799998                  [lovesbrooklyn, effect, everyone]  "
      ]
     },
     "execution_count": 26,
     "metadata": {},
     "output_type": "execute_result"
    }
   ],
   "source": [
    "# Text Tokenization and Normalization\n",
    "dataset['Clean_Text'] = dataset['Clean_Text'].apply(lambda x: nltk.word_tokenize(x))\n",
    "dataset.head()"
   ]
  },
  {
   "cell_type": "code",
   "execution_count": 27,
   "metadata": {
    "scrolled": true
   },
   "outputs": [
    {
     "data": {
      "text/html": [
       "<div>\n",
       "<style scoped>\n",
       "    .dataframe tbody tr th:only-of-type {\n",
       "        vertical-align: middle;\n",
       "    }\n",
       "\n",
       "    .dataframe tbody tr th {\n",
       "        vertical-align: top;\n",
       "    }\n",
       "\n",
       "    .dataframe thead th {\n",
       "        text-align: right;\n",
       "    }\n",
       "</style>\n",
       "<table border=\"1\" class=\"dataframe\">\n",
       "  <thead>\n",
       "    <tr style=\"text-align: right;\">\n",
       "      <th></th>\n",
       "      <th>target</th>\n",
       "      <th>ids</th>\n",
       "      <th>date</th>\n",
       "      <th>flag</th>\n",
       "      <th>user</th>\n",
       "      <th>Text</th>\n",
       "      <th>Clean_Text</th>\n",
       "    </tr>\n",
       "  </thead>\n",
       "  <tbody>\n",
       "    <tr>\n",
       "      <th>799994</th>\n",
       "      <td>4</td>\n",
       "      <td>1467822272</td>\n",
       "      <td>Mon Apr 06 22:22:45 PDT 2009</td>\n",
       "      <td>NO_QUERY</td>\n",
       "      <td>ersle</td>\n",
       "      <td>I LOVE @Health4UandPets u guys r the best!!</td>\n",
       "      <td>love health uandpets guys best</td>\n",
       "    </tr>\n",
       "    <tr>\n",
       "      <th>799995</th>\n",
       "      <td>4</td>\n",
       "      <td>1467822273</td>\n",
       "      <td>Mon Apr 06 22:22:45 PDT 2009</td>\n",
       "      <td>NO_QUERY</td>\n",
       "      <td>becca210</td>\n",
       "      <td>im meeting up with one of my besties tonight! ...</td>\n",
       "      <td>meeting besties tonight cant wait girl talk</td>\n",
       "    </tr>\n",
       "    <tr>\n",
       "      <th>799996</th>\n",
       "      <td>4</td>\n",
       "      <td>1467822283</td>\n",
       "      <td>Mon Apr 06 22:22:46 PDT 2009</td>\n",
       "      <td>NO_QUERY</td>\n",
       "      <td>Wingman29</td>\n",
       "      <td>@DaRealSunisaKim Thanks for the Twitter add, S...</td>\n",
       "      <td>darealsunisakim thanks twitter sunisa meet sho...</td>\n",
       "    </tr>\n",
       "    <tr>\n",
       "      <th>799997</th>\n",
       "      <td>4</td>\n",
       "      <td>1467822287</td>\n",
       "      <td>Mon Apr 06 22:22:46 PDT 2009</td>\n",
       "      <td>NO_QUERY</td>\n",
       "      <td>katarinka</td>\n",
       "      <td>Being sick can be really cheap when it hurts t...</td>\n",
       "      <td>sick really cheap hurts much real food plus fr...</td>\n",
       "    </tr>\n",
       "    <tr>\n",
       "      <th>799998</th>\n",
       "      <td>4</td>\n",
       "      <td>1467822293</td>\n",
       "      <td>Mon Apr 06 22:22:46 PDT 2009</td>\n",
       "      <td>NO_QUERY</td>\n",
       "      <td>_EmilyYoung</td>\n",
       "      <td>@LovesBrooklyn2 he has that effect on everyone</td>\n",
       "      <td>lovesbrooklyn effect everyone</td>\n",
       "    </tr>\n",
       "  </tbody>\n",
       "</table>\n",
       "</div>"
      ],
      "text/plain": [
       "        target         ids                          date      flag  \\\n",
       "799994       4  1467822272  Mon Apr 06 22:22:45 PDT 2009  NO_QUERY   \n",
       "799995       4  1467822273  Mon Apr 06 22:22:45 PDT 2009  NO_QUERY   \n",
       "799996       4  1467822283  Mon Apr 06 22:22:46 PDT 2009  NO_QUERY   \n",
       "799997       4  1467822287  Mon Apr 06 22:22:46 PDT 2009  NO_QUERY   \n",
       "799998       4  1467822293  Mon Apr 06 22:22:46 PDT 2009  NO_QUERY   \n",
       "\n",
       "               user                                               Text  \\\n",
       "799994        ersle       I LOVE @Health4UandPets u guys r the best!!    \n",
       "799995     becca210  im meeting up with one of my besties tonight! ...   \n",
       "799996    Wingman29  @DaRealSunisaKim Thanks for the Twitter add, S...   \n",
       "799997    katarinka  Being sick can be really cheap when it hurts t...   \n",
       "799998  _EmilyYoung    @LovesBrooklyn2 he has that effect on everyone    \n",
       "\n",
       "                                               Clean_Text  \n",
       "799994                     love health uandpets guys best  \n",
       "799995        meeting besties tonight cant wait girl talk  \n",
       "799996  darealsunisakim thanks twitter sunisa meet sho...  \n",
       "799997  sick really cheap hurts much real food plus fr...  \n",
       "799998                      lovesbrooklyn effect everyone  "
      ]
     },
     "execution_count": 27,
     "metadata": {},
     "output_type": "execute_result"
    }
   ],
   "source": [
    "dataset['Clean_Text'] = dataset['Clean_Text'].apply(lambda x: ' '.join([w for w in x]))\n",
    "dataset['Clean_Text'] = dataset['Clean_Text'].apply(lambda x: ' '.join([w for w in x.split() if len(w)>3]))\n",
    "dataset.head()"
   ]
  },
  {
   "cell_type": "markdown",
   "metadata": {},
   "source": [
    "## Traning and testing using unigram"
   ]
  },
  {
   "cell_type": "code",
   "execution_count": 28,
   "metadata": {},
   "outputs": [
    {
     "name": "stdout",
     "output_type": "stream",
     "text": [
      "  (0, 2054)\t0.3534399028375628\n",
      "  (0, 9080)\t0.3748192630125199\n",
      "  (0, 23041)\t0.619353833263846\n",
      "  (0, 9409)\t0.5220475799790407\n",
      "  (0, 12984)\t0.2801033891553844\n",
      "  (1, 21565)\t0.38309166609341405\n",
      "  (1, 8570)\t0.3691368833046239\n",
      "  (1, 23723)\t0.3271505304411654\n",
      "  (1, 22423)\t0.32861268559016577\n",
      "  (1, 2062)\t0.5797924231751967\n",
      "  (1, 13816)\t0.40719248038714695\n",
      "  (2, 21419)\t0.4110499859036693\n",
      "  (2, 1138)\t0.3775524404544633\n",
      "  (2, 13814)\t0.31764221793247116\n",
      "  (2, 21235)\t0.49343490832818665\n",
      "  (2, 22954)\t0.22181924181126098\n",
      "  (2, 21903)\t0.22679438183296802\n",
      "  (2, 5210)\t0.49343490832818665\n",
      "  (3, 20400)\t0.38050558768158743\n",
      "  (3, 13281)\t0.25149886994004944\n",
      "  (3, 8119)\t0.2851020715014969\n",
      "  (3, 16799)\t0.35518518559784246\n",
      "  (3, 7873)\t0.31886162872141144\n",
      "  (3, 17753)\t0.31642588390078275\n",
      "  (3, 10064)\t0.31354310496648796\n",
      "  :\t:\n",
      "  (19995, 10172)\t0.5302583440447596\n",
      "  (19995, 14994)\t0.5302583440447596\n",
      "  (19995, 107)\t0.4364497061844448\n",
      "  (19995, 6443)\t0.4134716769991094\n",
      "  (19995, 8499)\t0.27605253745052694\n",
      "  (19996, 10172)\t0.5302583440447596\n",
      "  (19996, 14994)\t0.5302583440447596\n",
      "  (19996, 107)\t0.4364497061844448\n",
      "  (19996, 6443)\t0.4134716769991094\n",
      "  (19996, 8499)\t0.27605253745052694\n",
      "  (19997, 20635)\t0.3954848293910579\n",
      "  (19997, 11435)\t0.352913216441779\n",
      "  (19997, 2647)\t0.31771584932856145\n",
      "  (19997, 5631)\t0.42556997764400173\n",
      "  (19997, 16404)\t0.3733131102332487\n",
      "  (19997, 21568)\t0.2934264568057145\n",
      "  (19997, 5627)\t0.34322796198030486\n",
      "  (19997, 23897)\t0.3061431803666835\n",
      "  (19998, 17611)\t1.0\n",
      "  (19999, 7939)\t0.49069578450959433\n",
      "  (19999, 4348)\t0.40225703856579764\n",
      "  (19999, 5010)\t0.34987258532840043\n",
      "  (19999, 7324)\t0.4258583428569889\n",
      "  (19999, 23271)\t0.39728246627252617\n",
      "  (19999, 16579)\t0.3685205690811948\n"
     ]
    }
   ],
   "source": [
    "from sklearn.feature_extraction.text import TfidfVectorizer\n",
    "vectorizer2 = TfidfVectorizer(ngram_range=(1,1), min_df=1, use_idf=True, smooth_idf=True,stop_words='english')\n",
    "cv2 = vectorizer2.fit_transform(dataset['Clean_Text'])\n",
    "cv2.shape\n",
    "print(cv2)"
   ]
  },
  {
   "cell_type": "code",
   "execution_count": 29,
   "metadata": {
    "collapsed": true
   },
   "outputs": [],
   "source": [
    "X_train,X_test,y_train,y_test = train_test_split(cv2,dataset['target'], test_size=.2,stratify=dataset['target'], random_state=42)"
   ]
  },
  {
   "cell_type": "code",
   "execution_count": 80,
   "metadata": {},
   "outputs": [
    {
     "name": "stdout",
     "output_type": "stream",
     "text": [
      "accuracy using unigram  0.69225\n",
      "             precision    recall  f1-score   support\n",
      "\n",
      "          0       0.69      0.69      0.69      2000\n",
      "          4       0.69      0.69      0.69      2000\n",
      "\n",
      "avg / total       0.69      0.69      0.69      4000\n",
      "\n"
     ]
    }
   ],
   "source": [
    "clfone = SVC(kernel='linear') \n",
    "clfone.fit(X_train,y_train)\n",
    "prediction_clfone = clfone.predict(X_test)\n",
    "print('accuracy using unigram',end='  ')\n",
    "print(accuracy_score(prediction_clfone,y_test))\n",
    "from sklearn.metrics import confusion_matrix\n",
    "from sklearn.metrics import classification_report\n",
    "print(classification_report(y_test, prediction_clfone))"
   ]
  },
  {
   "cell_type": "markdown",
   "metadata": {},
   "source": [
    "##Traning and testing using bigram"
   ]
  },
  {
   "cell_type": "code",
   "execution_count": 31,
   "metadata": {},
   "outputs": [
    {
     "name": "stdout",
     "output_type": "stream",
     "text": [
      "  (0, 35632)\t0.3841689393884714\n",
      "  (0, 96069)\t0.4000555572227571\n",
      "  (0, 37606)\t0.3841689393884714\n",
      "  (0, 52249)\t0.4000555572227571\n",
      "  (0, 6855)\t0.21922950229457622\n",
      "  (0, 35626)\t0.23249055870870278\n",
      "  (0, 96067)\t0.3841689393884714\n",
      "  (0, 37595)\t0.3238124224629279\n",
      "  (0, 52096)\t0.1737407862059675\n",
      "  (1, 32525)\t0.3523218128994157\n",
      "  (1, 98366)\t0.3668914499063155\n",
      "  (1, 93070)\t0.3523218128994157\n",
      "  (1, 6998)\t0.3668914499063155\n",
      "  (1, 55638)\t0.3668914499063155\n",
      "  (1, 87632)\t0.2259626086381422\n",
      "  (1, 32456)\t0.21773152610353866\n",
      "  (1, 98320)\t0.19296631542439222\n",
      "  (1, 92929)\t0.19382875233164995\n",
      "  (1, 6995)\t0.3419844909321284\n",
      "  (1, 55635)\t0.24017822163659197\n",
      "  (2, 3652)\t0.31660819708498844\n",
      "  (2, 55583)\t0.31660819708498844\n",
      "  (2, 86264)\t0.31660819708498844\n",
      "  (2, 95759)\t0.31660819708498844\n",
      "  (2, 89279)\t0.29511478976328404\n",
      "  :\t:\n",
      "  (19997, 20665)\t0.288508755474625\n",
      "  (19997, 83646)\t0.288508755474625\n",
      "  (19997, 20691)\t0.288508755474625\n",
      "  (19997, 87730)\t0.288508755474625\n",
      "  (19997, 45012)\t0.27705177591936136\n",
      "  (19997, 83645)\t0.25746594000485545\n",
      "  (19997, 45011)\t0.22975124773110728\n",
      "  (19997, 9348)\t0.20683728862058007\n",
      "  (19997, 20690)\t0.27705177591936136\n",
      "  (19997, 65956)\t0.2430318528028798\n",
      "  (19997, 87717)\t0.19102456759239111\n",
      "  (19997, 20654)\t0.2234460168883739\n",
      "  (19997, 100221)\t0.1993033255676289\n",
      "  (19998, 71431)\t1.0\n",
      "  (19999, 66648)\t0.3412614845779694\n",
      "  (19999, 18437)\t0.3412614845779694\n",
      "  (19999, 96834)\t0.3412614845779694\n",
      "  (19999, 26912)\t0.3412614845779694\n",
      "  (19999, 15970)\t0.3412614845779694\n",
      "  (19999, 29956)\t0.31713642196573694\n",
      "  (19999, 15962)\t0.25997850796453337\n",
      "  (19999, 18400)\t0.22612246397397245\n",
      "  (19999, 26902)\t0.2752320182511836\n",
      "  (19999, 96829)\t0.2567634445633373\n",
      "  (19999, 66637)\t0.23817464585718726\n",
      "accuracy using unigram  0.71975\n",
      "             precision    recall  f1-score   support\n",
      "\n",
      "          0       0.74      0.68      0.71      2000\n",
      "          4       0.70      0.76      0.73      2000\n",
      "\n",
      "avg / total       0.72      0.72      0.72      4000\n",
      "\n"
     ]
    }
   ],
   "source": [
    "from sklearn.feature_extraction.text import TfidfVectorizer\n",
    "vectorizer2 = TfidfVectorizer(ngram_range=(1,2), min_df=1, use_idf=True, smooth_idf=True,stop_words='english')\n",
    "cv2 = vectorizer2.fit_transform(dataset['Clean_Text'])\n",
    "cv2.shape\n",
    "print(cv2)\n",
    "X_train,X_test,y_train,y_test = train_test_split(cv2,dataset['target'], test_size=.2,stratify=dataset['target'], random_state=42)\n",
    "clfone = SVC(kernel='linear')\n",
    "clfone.fit(X_train,y_train)\n",
    "prediction_clfone = clfone.predict(X_test)\n",
    "print('accuracy using unigram',end='  ')\n",
    "print(accuracy_score(prediction_clfone,y_test))\n",
    "from sklearn.metrics import confusion_matrix\n",
    "from sklearn.metrics import classification_report\n",
    "print(classification_report(y_test, prediction_clfone))"
   ]
  },
  {
   "cell_type": "markdown",
   "metadata": {},
   "source": [
    "## Traning and testing using trigram"
   ]
  },
  {
   "cell_type": "code",
   "execution_count": 32,
   "metadata": {},
   "outputs": [
    {
     "name": "stdout",
     "output_type": "stream",
     "text": [
      "  (0, 161343)\t0.32882882911755973\n",
      "  (0, 62567)\t0.32882882911755973\n",
      "  (0, 87208)\t0.32882882911755973\n",
      "  (0, 59081)\t0.3157706979485994\n",
      "  (0, 161342)\t0.32882882911755973\n",
      "  (0, 62565)\t0.3157706979485994\n",
      "  (0, 87207)\t0.32882882911755973\n",
      "  (0, 10976)\t0.18019742319792506\n",
      "  (0, 59071)\t0.19109745339320885\n",
      "  (0, 161339)\t0.3157706979485994\n",
      "  (0, 62546)\t0.26616018152927723\n",
      "  (0, 86917)\t0.1428076132592283\n",
      "  (1, 164968)\t0.2957996694147519\n",
      "  (1, 156240)\t0.2957996694147519\n",
      "  (1, 11261)\t0.2957996694147519\n",
      "  (1, 92922)\t0.2957996694147519\n",
      "  (1, 53170)\t0.284053160164579\n",
      "  (1, 164967)\t0.2957996694147519\n",
      "  (1, 156239)\t0.284053160164579\n",
      "  (1, 11260)\t0.2957996694147519\n",
      "  (1, 92921)\t0.2957996694147519\n",
      "  (1, 146464)\t0.18217831173859383\n",
      "  (1, 53041)\t0.1755421486628858\n",
      "  (1, 164877)\t0.15557564049337477\n",
      "  (1, 155984)\t0.1562709648246533\n",
      "  :\t:\n",
      "  (19997, 74720)\t0.22625528715232787\n",
      "  (19997, 139792)\t0.2102604467862993\n",
      "  (19997, 74719)\t0.18762714787338988\n",
      "  (19997, 15091)\t0.1689143842350943\n",
      "  (19997, 33454)\t0.22625528715232787\n",
      "  (19997, 110040)\t0.1984727997523554\n",
      "  (19997, 146618)\t0.15600087113805547\n",
      "  (19997, 33394)\t0.1824779593863268\n",
      "  (19997, 168365)\t0.16276174735599835\n",
      "  (19998, 119277)\t1.0\n",
      "  (19999, 29777)\t0.2818670735320454\n",
      "  (19999, 162554)\t0.2818670735320454\n",
      "  (19999, 43577)\t0.2818670735320454\n",
      "  (19999, 25820)\t0.2818670735320454\n",
      "  (19999, 111156)\t0.2818670735320454\n",
      "  (19999, 29776)\t0.2818670735320454\n",
      "  (19999, 162553)\t0.2818670735320454\n",
      "  (19999, 43576)\t0.2818670735320454\n",
      "  (19999, 25819)\t0.2818670735320454\n",
      "  (19999, 48876)\t0.2619408260514754\n",
      "  (19999, 25802)\t0.21473088682074265\n",
      "  (19999, 29716)\t0.18676727395422452\n",
      "  (19999, 43560)\t0.2273296197568843\n",
      "  (19999, 162546)\t0.21207538494588024\n",
      "  (19999, 111137)\t0.19672184952345062\n",
      "accuracy using trigram  0.71975\n",
      "             precision    recall  f1-score   support\n",
      "\n",
      "          0       0.74      0.68      0.71      2000\n",
      "          4       0.70      0.76      0.73      2000\n",
      "\n",
      "avg / total       0.72      0.72      0.72      4000\n",
      "\n"
     ]
    }
   ],
   "source": [
    "from sklearn.feature_extraction.text import TfidfVectorizer\n",
    "vectorizer2 = TfidfVectorizer(ngram_range=(1,3), min_df=1, use_idf=True, smooth_idf=True,stop_words='english')\n",
    "cv2 = vectorizer2.fit_transform(dataset['Clean_Text'])\n",
    "cv2.shape\n",
    "print(cv2)\n",
    "X_train,X_test,y_train,y_test = train_test_split(cv2,dataset['target'], test_size=.2,stratify=dataset['target'], random_state=42)\n",
    "clfone = SVC(kernel='linear') \n",
    "clfone.fit(X_train,y_train)\n",
    "prediction_clfone = clfone.predict(X_test)\n",
    "print('accuracy using trigram',end='  ')\n",
    "print(accuracy_score(prediction_clfone,y_test))\n",
    "from sklearn.metrics import confusion_matrix\n",
    "from sklearn.metrics import classification_report\n",
    "print(classification_report(y_test, prediction_clfone))"
   ]
  },
  {
   "cell_type": "markdown",
   "metadata": {},
   "source": [
    "## comperative accuracy analysis with other models"
   ]
  },
  {
   "cell_type": "code",
   "execution_count": 46,
   "metadata": {
    "collapsed": true
   },
   "outputs": [],
   "source": [
    "count_vectorizer = CountVectorizer(stop_words='english') \n",
    "cv = count_vectorizer.fit_transform(dataset['Clean_Text'])\n",
    "cv.shape\n",
    "X_train,X_test,y_train,y_test = train_test_split(cv,dataset['target'], test_size=.2,stratify=dataset['target'], random_state=42)"
   ]
  },
  {
   "cell_type": "code",
   "execution_count": 81,
   "metadata": {},
   "outputs": [
    {
     "name": "stdout",
     "output_type": "stream",
     "text": [
      "0.703\n"
     ]
    },
    {
     "name": "stderr",
     "output_type": "stream",
     "text": [
      "/home/gsainicse/anaconda3/lib/python3.6/site-packages/sklearn/preprocessing/label.py:151: DeprecationWarning: The truth value of an empty array is ambiguous. Returning False, but in future this will result in an error. Use `array.size > 0` to check that an array is not empty.\n",
      "  if diff:\n"
     ]
    }
   ],
   "source": [
    "xgbc = XGBClassifier(max_depth=6, n_estimators=1000, nthread= 3)\n",
    "xgbc.fit(X_train,y_train)\n",
    "prediction_xgb = xgbc.predict(X_test)\n",
    "print(accuracy_score(prediction_xgb,y_test))"
   ]
  },
  {
   "cell_type": "code",
   "execution_count": 51,
   "metadata": {},
   "outputs": [
    {
     "name": "stdout",
     "output_type": "stream",
     "text": [
      "0.69225\n"
     ]
    }
   ],
   "source": [
    "from sklearn.svm import SVC \n",
    "clf = SVC(kernel='linear') \n",
    "clf.fit(X_train,y_train) \n",
    "prediction_clf = clf.predict(X_test) \n",
    "print(accuracy_score(prediction_clf,y_test)) "
   ]
  },
  {
   "cell_type": "code",
   "execution_count": 48,
   "metadata": {},
   "outputs": [
    {
     "name": "stdout",
     "output_type": "stream",
     "text": [
      "0.68825\n"
     ]
    }
   ],
   "source": [
    "rf = RandomForestClassifier(n_estimators=1000, random_state=42) \n",
    "rf.fit(X_train,y_train) \n",
    "prediction_rf = rf.predict(X_test) \n",
    "print(accuracy_score(prediction_rf,y_test)) "
   ]
  },
  {
   "cell_type": "markdown",
   "metadata": {},
   "source": [
    "## plotting of ROC curve uisng svm with tfidf or without tfidf"
   ]
  },
  {
   "cell_type": "code",
   "execution_count": 34,
   "metadata": {
    "collapsed": true
   },
   "outputs": [],
   "source": [
    "from sklearn.feature_extraction.text import TfidfVectorizer\n",
    "vectorizer2 = TfidfVectorizer(ngram_range=(1,2), min_df=1, use_idf=True, smooth_idf=True,stop_words='english')\n",
    "cv2 = vectorizer2.fit_transform(dataset['Clean_Text'])\n",
    "X_train2,X_test2,y_train2,y_test2 = train_test_split(cv2,dataset['target'], test_size=.2,stratify=dataset['target'], random_state=42)"
   ]
  },
  {
   "cell_type": "code",
   "execution_count": 35,
   "metadata": {
    "collapsed": true
   },
   "outputs": [],
   "source": [
    "count_vectorizer = CountVectorizer(stop_words='english') \n",
    "cv = count_vectorizer.fit_transform(dataset['Clean_Text'])\n",
    "cv.shape\n",
    "X_train,X_test,y_train,y_test = train_test_split(cv,dataset['target'], test_size=.2,stratify=dataset['target'], random_state=42)"
   ]
  },
  {
   "cell_type": "code",
   "execution_count": 36,
   "metadata": {
    "collapsed": true
   },
   "outputs": [],
   "source": [
    "import sklearn.metrics as metrics\n",
    "clf2 = SVC(kernel='linear',probability=True) \n",
    "clf2.fit(X_train2,y_train2) \n",
    "y_pred_proba2 = clf2.predict_proba(X_test2)[::,1]"
   ]
  },
  {
   "cell_type": "code",
   "execution_count": 37,
   "metadata": {
    "collapsed": true
   },
   "outputs": [],
   "source": [
    "import sklearn.metrics as metrics\n",
    "clf = SVC(kernel='linear',probability=True) \n",
    "clf.fit(X_train,y_train) \n",
    "y_pred_proba = clf.predict_proba(X_test)[::,1]"
   ]
  },
  {
   "cell_type": "code",
   "execution_count": 38,
   "metadata": {},
   "outputs": [
    {
     "name": "stdout",
     "output_type": "stream",
     "text": [
      "[0.67773202 0.08869343 0.55914748 ... 0.73687308 0.67540339 0.64548409]\n",
      "[0.70562923 0.08178532 0.4437414  ... 0.75483498 0.45634938 0.63517   ]\n"
     ]
    }
   ],
   "source": [
    "print(y_pred_proba2)\n",
    "print(y_pred_proba)"
   ]
  },
  {
   "cell_type": "code",
   "execution_count": 39,
   "metadata": {
    "collapsed": true
   },
   "outputs": [],
   "source": [
    "a2= [0] * 4000\n",
    "i=0\n",
    "for x in y_test2:\n",
    "    a2[i]=x\n",
    "    i=i+1"
   ]
  },
  {
   "cell_type": "code",
   "execution_count": 40,
   "metadata": {
    "collapsed": true
   },
   "outputs": [],
   "source": [
    "a= [0] * 4000\n",
    "i=0\n",
    "for x in y_test:\n",
    "    a[i]=x\n",
    "    i=i+1"
   ]
  },
  {
   "cell_type": "code",
   "execution_count": 41,
   "metadata": {
    "collapsed": true
   },
   "outputs": [],
   "source": [
    "for i in range(0,len(a2)):\n",
    "    if(a2[i]==4):\n",
    "        a2[i]=1"
   ]
  },
  {
   "cell_type": "code",
   "execution_count": 74,
   "metadata": {
    "collapsed": true
   },
   "outputs": [],
   "source": [
    "for i in range(0,len(a)):\n",
    "    if(a[i]==4):\n",
    "        a[i]=1"
   ]
  },
  {
   "cell_type": "code",
   "execution_count": 75,
   "metadata": {
    "collapsed": true
   },
   "outputs": [],
   "source": [
    "fpr2, tpr2, threshold2 = metrics.roc_curve(a2, y_pred_proba2)\n",
    "roc_auc2 = metrics.auc(fpr2, tpr2)"
   ]
  },
  {
   "cell_type": "code",
   "execution_count": 76,
   "metadata": {
    "collapsed": true
   },
   "outputs": [],
   "source": [
    "fpr, tpr, threshold = metrics.roc_curve(a, y_pred_proba)\n",
    "roc_auc= metrics.auc(fpr, tpr)"
   ]
  },
  {
   "cell_type": "code",
   "execution_count": 82,
   "metadata": {},
   "outputs": [
    {
     "data": {
      "image/png": "[encoded data removed]",
      "text/plain": [
       "<Figure size 432x288 with 1 Axes>"
      ]
     },
     "metadata": {},
     "output_type": "display_data"
    }
   ],
   "source": [
    "import matplotlib.pyplot as plt\n",
    "plt.title('Receiver Operating Characteristic')\n",
    "plt.plot(fpr, tpr, 'b', label = 'AUC = %0.2f' % roc_auc)\n",
    "plt.plot(fpr2, tpr2, 'g', label = 'AUC = %0.2f' % roc_auc2)\n",
    "plt.legend(loc = 'lower right')\n",
    "plt.plot([0, 1], [0, 1],'r--')\n",
    "plt.xlim([0, 1])\n",
    "plt.ylim([0, 1])\n",
    "plt.ylabel('True Positive Rate')\n",
    "plt.xlabel('False Positive Rate')\n",
    "plt.show()"
   ]
  },
  {
   "cell_type": "markdown",
   "metadata": {},
   "source": [
    "## comparative study of all"
   ]
  },
  {
   "cell_type": "code",
   "execution_count": 49,
   "metadata": {},
   "outputs": [],
   "source": [
    "y_pred_probarf = rf.predict_proba(X_test)[::,1]"
   ]
  },
  {
   "cell_type": "code",
   "execution_count": 50,
   "metadata": {
    "collapsed": true
   },
   "outputs": [],
   "source": [
    "fpr_rf, tpr_rf, threshold_rf = metrics.roc_curve(a, y_pred_probarf)\n",
    "roc_auc_rf= metrics.auc(fpr_rf, tpr_rf)"
   ]
  },
  {
   "cell_type": "code",
   "execution_count": 51,
   "metadata": {
    "collapsed": true
   },
   "outputs": [],
   "source": [
    "y_pred_proba_xgbc = xgbc.predict_proba(X_test)[::,1]\n",
    "fpr_xgbc, tpr_xgbc, threshold_xgbc = metrics.roc_curve(a, y_pred_proba_xgbc)\n",
    "roc_auc_xgbc= metrics.auc(fpr_xgbc, tpr_xgbc)"
   ]
  },
  {
   "cell_type": "code",
   "execution_count": 83,
   "metadata": {},
   "outputs": [
    {
     "data": {
      "image/png": "[encoded data removed]",
      "text/plain": [
       "<Figure size 432x288 with 1 Axes>"
      ]
     },
     "metadata": {},
     "output_type": "display_data"
    }
   ],
   "source": [
    "import matplotlib.pyplot as plt\n",
    "plt.title('Receiver Operating Characteristic')\n",
    "plt.plot(fpr, tpr, 'b', label = 'AUC_svm = %0.2f' % roc_auc)\n",
    "plt.plot(fpr2, tpr2, 'g', label = 'AUC_svm_tfidf= %0.2f' % roc_auc2)\n",
    "plt.plot(fpr_rf, tpr_rf, 'r', label = 'AUC_rf= %0.2f' % roc_auc_rf)\n",
    "plt.plot(fpr_xgbc, tpr_xgbc, 'y', label = 'AUC_xgbc = %0.2f' % roc_auc_xgbc)\n",
    "plt.legend(loc = 'lower right')\n",
    "plt.plot([0, 1], [0, 1],'r--')\n",
    "plt.xlim([0, 1])\n",
    "plt.ylim([0, 1])\n",
    "plt.ylabel('True Positive Rate')\n",
    "plt.xlabel('False Positive Rate')\n",
    "plt.show()"
   ]
  },
  {
   "cell_type": "markdown",
   "metadata": {},
   "source": [
    "## SMDI"
   ]
  },
  {
   "cell_type": "code",
   "execution_count": 84,
   "metadata": {},
   "outputs": [
    {
     "name": "stdout",
     "output_type": "stream",
     "text": [
      "[20160, 18874, 18192, 17214, 16581, 16126, 16112, 17262, 10952, 5694, 7607, 7492, 2434, 1265, 1127, 1097, 1543, 1451, 3187, 4539, 8382, 14384, 16875, 20026]\n"
     ]
    }
   ],
   "source": [
    "positive_post_list=[]\n",
    "for i in range(24):\n",
    "    positive_post_list.append(hour_data[i][2])\n",
    "print(positive_post_list)"
   ]
  },
  {
   "cell_type": "code",
   "execution_count": 85,
   "metadata": {},
   "outputs": [
    {
     "name": "stdout",
     "output_type": "stream",
     "text": [
      "mean of positive\n",
      "10357.333333333334\n"
     ]
    }
   ],
   "source": [
    "def Average(lst): \n",
    "    return sum(lst) / len(lst) \n",
    "mean_positive=Average(positive_post_list)\n",
    "print(\"mean of positive\")\n",
    "print(mean_positive)"
   ]
  },
  {
   "cell_type": "code",
   "execution_count": 86,
   "metadata": {},
   "outputs": [
    {
     "name": "stdout",
     "output_type": "stream",
     "text": [
      "sum of positive\n",
      "248576\n"
     ]
    }
   ],
   "source": [
    "sum_positive=sum(positive_post_list)\n",
    "print(\"sum of positive\")\n",
    "print(sum_positive)"
   ]
  },
  {
   "cell_type": "code",
   "execution_count": 87,
   "metadata": {},
   "outputs": [
    {
     "name": "stdout",
     "output_type": "stream",
     "text": [
      "positive standard deviation\n",
      "7019.206577115551\n"
     ]
    }
   ],
   "source": [
    "variance_positive = sum([((x - mean_positive) ** 2) for x in positive_post_list]) / len(positive_post_list) \n",
    "sd_positive = variance_positive ** 0.5\n",
    "print(\"positive standard deviation\")\n",
    "print(sd_positive)"
   ]
  },
  {
   "cell_type": "code",
   "execution_count": 88,
   "metadata": {},
   "outputs": [
    {
     "name": "stdout",
     "output_type": "stream",
     "text": [
      "33.938118795836814\n"
     ]
    }
   ],
   "source": [
    "p1=(sum_positive-mean_positive)/sd_positive\n",
    "print(p1)"
   ]
  },
  {
   "cell_type": "code",
   "execution_count": 89,
   "metadata": {},
   "outputs": [
    {
     "name": "stdout",
     "output_type": "stream",
     "text": [
      "[35582, 30581, 30171, 31717, 34946, 37774, 40076, 42208, 40166, 36511, 31597, 31336, 28120, 27449, 27077, 28531, 31594, 29316, 29422, 31193, 30102, 36007, 39012, 39506]\n"
     ]
    }
   ],
   "source": [
    "negative_post_list=[]\n",
    "for i in range(24):\n",
    "    negative_post_list.append(hour_data[i][0])\n",
    "print(negative_post_list)"
   ]
  },
  {
   "cell_type": "code",
   "execution_count": 90,
   "metadata": {},
   "outputs": [
    {
     "name": "stdout",
     "output_type": "stream",
     "text": [
      "mean of negative\n",
      "33333.083333333336\n"
     ]
    }
   ],
   "source": [
    "def Average(lst): \n",
    "    return sum(lst) / len(lst) \n",
    "mean_negative=Average(negative_post_list)\n",
    "print(\"mean of negative\")\n",
    "print(mean_negative)"
   ]
  },
  {
   "cell_type": "code",
   "execution_count": 91,
   "metadata": {},
   "outputs": [
    {
     "name": "stdout",
     "output_type": "stream",
     "text": [
      "sum of negative\n",
      "799994\n"
     ]
    }
   ],
   "source": [
    "sum_negative=sum(negative_post_list)\n",
    "print(\"sum of negative\")\n",
    "print(sum_negative)"
   ]
  },
  {
   "cell_type": "code",
   "execution_count": 92,
   "metadata": {},
   "outputs": [
    {
     "name": "stdout",
     "output_type": "stream",
     "text": [
      "negative standard deviation\n",
      "4502.62196685319\n"
     ]
    }
   ],
   "source": [
    "variance_negative = sum([((x - mean_negative) ** 2) for x in negative_post_list]) / len(negative_post_list) \n",
    "sd_negative = variance_negative ** 0.5\n",
    "print(\"negative standard deviation\")\n",
    "print(sd_negative)"
   ]
  },
  {
   "cell_type": "code",
   "execution_count": 93,
   "metadata": {},
   "outputs": [
    {
     "name": "stdout",
     "output_type": "stream",
     "text": [
      "170.26988326147966\n"
     ]
    }
   ],
   "source": [
    "p2=(sum_negative-mean_negative)/sd_negative\n",
    "print(p2)"
   ]
  },
  {
   "cell_type": "code",
   "execution_count": 94,
   "metadata": {},
   "outputs": [
    {
     "name": "stdout",
     "output_type": "stream",
     "text": [
      "SMDI INDEX\n",
      "-136.33176446564283\n",
      "most of the population are not in depression accoding to our dataset\n"
     ]
    }
   ],
   "source": [
    "SMDI=p1-p2\n",
    "print(\"SMDI INDEX\")\n",
    "print(SMDI)\n",
    "print(\"most of the population are not in depression accoding to our dataset\")"
   ]
  },
  {
   "cell_type": "markdown",
   "metadata": {},
   "source": [
    "#Smdi compression in dya nd night"
   ]
  },
  {
   "cell_type": "code",
   "execution_count": 95,
   "metadata": {},
   "outputs": [
    {
     "name": "stdout",
     "output_type": "stream",
     "text": [
      "[14384, 16875, 20026, 20160, 18874, 18192, 17214, 16581, 16126]\n",
      "mean of positive in night\n",
      "17603.555555555555\n",
      "sum of positive in night\n",
      "158432\n",
      "positive post standard deviation in night\n",
      "1783.9038409006937\n",
      "p1 for night\n",
      "78.94396615758174\n"
     ]
    }
   ],
   "source": [
    "positive_post_list_n=[]\n",
    "for i in range(21,24):\n",
    "    positive_post_list_n.append(hour_data[i][2])\n",
    "for i in range(6):\n",
    "    positive_post_list_n.append(hour_data[i][2])\n",
    "print(positive_post_list_n)\n",
    "def Average(lst): \n",
    "    return sum(lst) / len(lst) \n",
    "mean_positive_n=Average(positive_post_list_n)\n",
    "print(\"mean of positive in night\")\n",
    "print(mean_positive_n)\n",
    "sum_positive_n=sum(positive_post_list_n)\n",
    "print(\"sum of positive in night\")\n",
    "print(sum_positive_n)\n",
    "variance_positive_n = sum([((x - mean_positive_n) ** 2) for x in positive_post_list_n]) / len(positive_post_list_n) \n",
    "sd_positive_n = variance_positive_n ** 0.5\n",
    "print(\"positive post standard deviation in night\")\n",
    "print(sd_positive_n)\n",
    "p1_n=(sum_positive_n-mean_positive_n)/sd_positive_n\n",
    "print(\"p1 for night\")\n",
    "print(p1_n)"
   ]
  },
  {
   "cell_type": "code",
   "execution_count": 96,
   "metadata": {},
   "outputs": [
    {
     "name": "stdout",
     "output_type": "stream",
     "text": [
      "[36007, 39012, 39506, 35582, 30581, 30171, 31717, 34946, 37774]\n",
      "mean of negative in night\n",
      "35032.88888888889\n",
      "sum of negative in night\n",
      "315296\n",
      "negative post standard deviation in night\n",
      "3317.731837145654\n",
      "p1 for night\n",
      "84.47431102576091\n"
     ]
    }
   ],
   "source": [
    "negative_post_list_n=[]\n",
    "for i in range(21,24):\n",
    "    negative_post_list_n.append(hour_data[i][0])\n",
    "for i in range(6):\n",
    "    negative_post_list_n.append(hour_data[i][0])\n",
    "print(negative_post_list_n)\n",
    "def Average(lst): \n",
    "    return sum(lst) / len(lst) \n",
    "mean_negative_n=Average(negative_post_list_n)\n",
    "print(\"mean of negative in night\")\n",
    "print(mean_negative_n)\n",
    "sum_negative_n=sum(negative_post_list_n)\n",
    "print(\"sum of negative in night\")\n",
    "print(sum_negative_n)\n",
    "variance_negative_n = sum([((x - mean_negative_n) ** 2) for x in negative_post_list_n]) / len(negative_post_list_n) \n",
    "sd_negative_n = variance_negative_n ** 0.5\n",
    "print(\"negative post standard deviation in night\")\n",
    "print(sd_negative_n)\n",
    "p2_n=(sum_negative_n-mean_negative_n)/sd_negative_n\n",
    "print(\"p1 for night\")\n",
    "print(p2_n)"
   ]
  },
  {
   "cell_type": "code",
   "execution_count": 97,
   "metadata": {},
   "outputs": [
    {
     "name": "stdout",
     "output_type": "stream",
     "text": [
      "SMDI INDEX at night\n",
      "-5.530344868179171\n"
     ]
    }
   ],
   "source": [
    "SMDI_at_night=p1_n-p2_n\n",
    "print(\"SMDI INDEX at night\")\n",
    "print(SMDI_at_night)"
   ]
  },
  {
   "cell_type": "markdown",
   "metadata": {},
   "source": [
    "#smdi at day time"
   ]
  },
  {
   "cell_type": "code",
   "execution_count": 98,
   "metadata": {},
   "outputs": [
    {
     "name": "stdout",
     "output_type": "stream",
     "text": [
      "[17262, 10952, 5694, 7607, 7492, 2434, 1265, 1127, 1097, 1543, 1451, 3187, 4539, 8382, 14384]\n",
      "mean of positive in night\n",
      "5894.4\n",
      "sum of positive in night\n",
      "88416\n",
      "positive post standard deviation in night\n",
      "4936.821282296264\n",
      "p1 for day\n",
      "16.715533190542544\n"
     ]
    }
   ],
   "source": [
    "positive_post_list_day=[]\n",
    "for i in range(7,22):\n",
    "    positive_post_list_day.append(hour_data[i][2])\n",
    "print(positive_post_list_day)\n",
    "def Average(lst): \n",
    "    return sum(lst) / len(lst) \n",
    "mean_positive_day=Average(positive_post_list_day)\n",
    "print(\"mean of positive in night\")\n",
    "print(mean_positive_day)\n",
    "sum_positive_day=sum(positive_post_list_day)\n",
    "print(\"sum of positive in night\")\n",
    "print(sum_positive_day)\n",
    "variance_positive_day = sum([((x - mean_positive_day) ** 2) for x in positive_post_list_day]) / len(positive_post_list_day) \n",
    "sd_positive_day = variance_positive_day ** 0.5\n",
    "print(\"positive post standard deviation in night\")\n",
    "print(sd_positive_day)\n",
    "p1_day=(sum_positive_day-mean_positive_day)/sd_positive_day\n",
    "print(\"p1 for day\")\n",
    "print(p1_day)"
   ]
  },
  {
   "cell_type": "code",
   "execution_count": 99,
   "metadata": {},
   "outputs": [
    {
     "name": "stdout",
     "output_type": "stream",
     "text": [
      "[42208, 40166, 36511, 31597, 31336, 28120, 27449, 27077, 28531, 31594, 29316, 29422, 31193, 30102, 36007]\n",
      "mean of positive in night\n",
      "32041.933333333334\n",
      "sum of positive in night\n",
      "480629\n",
      "positive post standard deviation in night\n",
      "4458.4992911167865\n",
      "p2 for day\n",
      "100.6139145430485\n"
     ]
    }
   ],
   "source": [
    "positive_post_list_day=[]\n",
    "for i in range(7,22):\n",
    "    positive_post_list_day.append(hour_data[i][0])\n",
    "print(positive_post_list_day)\n",
    "def Average(lst): \n",
    "    return sum(lst) / len(lst) \n",
    "mean_positive_day=Average(positive_post_list_day)\n",
    "print(\"mean of positive in night\")\n",
    "print(mean_positive_day)\n",
    "sum_positive_day=sum(positive_post_list_day)\n",
    "print(\"sum of positive in night\")\n",
    "print(sum_positive_day)\n",
    "variance_positive_day = sum([((x - mean_positive_day) ** 2) for x in positive_post_list_day]) / len(positive_post_list_day) \n",
    "sd_positive_day = variance_positive_day ** 0.5\n",
    "print(\"positive post standard deviation in night\")\n",
    "print(sd_positive_day)\n",
    "p2_day=(sum_positive_day-mean_positive_day)/sd_positive_day\n",
    "print(\"p2 for day\")\n",
    "print(p2_day)"
   ]
  },
  {
   "cell_type": "code",
   "execution_count": 100,
   "metadata": {},
   "outputs": [
    {
     "name": "stdout",
     "output_type": "stream",
     "text": [
      "SMDI INDEX at day\n",
      "-83.89838135250595\n"
     ]
    }
   ],
   "source": [
    "SMDI_at_day=p1_day-p2_day\n",
    "print(\"SMDI INDEX at day\")\n",
    "print(SMDI_at_day)"
   ]
  },
  {
   "cell_type": "code",
   "execution_count": 101,
   "metadata": {},
   "outputs": [
    {
     "data": {
      "text/plain": [
       "<BarContainer object of 2 artists>"
      ]
     },
     "execution_count": 101,
     "metadata": {},
     "output_type": "execute_result"
    },
    {
     "data": {
      "image/png": "[encoded data removed]",
      "text/plain": [
       "<Figure size 432x288 with 1 Axes>"
      ]
     },
     "metadata": {},
     "output_type": "display_data"
    }
   ],
   "source": [
    "import matplotlib.pyplot as plt\n",
    "window = ['day_time', 'night_time']\n",
    "window_smdi = [SMDI_at_day, SMDI_at_night]\n",
    "plt.bar(window, window_smdi)"
   ]
  },
  {
   "cell_type": "code",
   "execution_count": 70,
   "metadata": {},
   "outputs": [
    {
     "name": "stdout",
     "output_type": "stream",
     "text": [
      "this show that SMDI is higher at night\n"
     ]
    },
    {
     "data": {
      "image/png": "[encoded data removed]",
      "text/plain": [
       "<Figure size 432x288 with 1 Axes>"
      ]
     },
     "metadata": {},
     "output_type": "display_data"
    }
   ],
   "source": [
    "plt.plot(window, window_smdi)\n",
    "print(\"this show that SMDI is higher at night\")"
   ]
  },
  {
   "cell_type": "code",
   "execution_count": 102,
   "metadata": {},
   "outputs": [
    {
     "data": {
      "image/png": "[encoded data removed]",
      "text/plain": [
       "<Figure size 432x288 with 1 Axes>"
      ]
     },
     "metadata": {},
     "output_type": "display_data"
    }
   ],
   "source": [
    "plt.scatter(window, window_smdi)\n",
    "plt.show()"
   ]
  },
  {
   "cell_type": "code",
   "execution_count": null,
   "metadata": {
    "collapsed": true
   },
   "outputs": [],
   "source": []
  }
 ],
 "metadata": {
  "kernelspec": {
   "display_name": "Python 3",
   "language": "python",
   "name": "python3"
  },
  "language_info": {
   "codemirror_mode": {
    "name": "ipython",
    "version": 3
   },
   "file_extension": ".py",
   "mimetype": "text/x-python",
   "name": "python",
   "nbconvert_exporter": "python",
   "pygments_lexer": "ipython3",
   "version": "3.6.3"
  }
 },
 "nbformat": 4,
 "nbformat_minor": 1
}
